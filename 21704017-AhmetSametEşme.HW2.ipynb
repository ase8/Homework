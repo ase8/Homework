{
 "cells": [
  {
   "cell_type": "code",
   "execution_count": 5,
   "metadata": {},
   "outputs": [
    {
     "name": "stdout",
     "output_type": "stream",
     "text": [
      "1,2,3 numaralarından birini seçiniz 9\n",
      "lütfen programı yeniden başlatın ve 1,2,3 dışında seçim yapmayın\n"
     ]
    }
   ],
   "source": [
    "sayı = int(input(\"1,2,3 numaralarından birini seçiniz \"))\n",
    "\n",
    "if sayı < 1:\n",
    "    print(\"lütfen programı yeniden başlatın ve 1,2,3 dışında seçim yapmayın\")\n",
    "    \n",
    "if sayı > 3:\n",
    "        print(\"lütfen programı yeniden başlatın ve 1,2,3 dışında seçim yapmayın\")\n",
    "        \n",
    "if sayı == 1:\n",
    "    print(\"bu bölümde iki dik kenar uzunluğunu gireceğiniz dik üçgenin hipotenüsü hesaplanacaktır \")\n",
    "    x=int(input(\"birinci kenar uzunluğunu giriniz \"))\n",
    "    y=int(input(\"ikinci kenar uzunluğunu giriniz \"))\n",
    "    hipo=(x**2+y**2)**0.5\n",
    "    print(\"üçgeninizin hipotenüs uzunluğu :\" , hipo)\n",
    "    \n",
    "if sayı == 2:\n",
    "    print(\"bu bölümde seçtiğiniz tam sayıya kadar birden itibaren tam sayılar yazdırılacaktır\")\n",
    "    a=0\n",
    "    s=int(input(\"bir sayı giriniz \"))\n",
    "    while a<s:\n",
    "        a+=1\n",
    "        print(a)\n",
    "        \n",
    "if sayı == 3:\n",
    "    print(\"bu bölümde girdiğiniz 6 tam sayının aritmetik ortalaması hesaplanacaktır \")\n",
    "    sayı1 = int(input(\"birinci sayıyı giriniz: \"))\n",
    "    sayı2 = int(input(\"ikinci sayıyı giriniz: \"))\n",
    "    sayı3 = int(input(\"üçüncü sayıyı giriniz: \"))\n",
    "    sayı4 = int(input(\"dördüncü sayıyı giriniz: \"))\n",
    "    sayı5 = int(input(\"beşinci sayıyı giriniz: \"))\n",
    "    sayı6 = int(input(\"altıncı sayıyı giriniz: \"))\n",
    "    \n",
    "    aort=(sayı1+sayı2+sayı3+sayı4+sayı5+sayı6)/6\n",
    "    print(\"girdiğiniz sayıların aritmetik ortalaması: \" , aort)    \n",
    "    "
   ]
  },
  {
   "cell_type": "code",
   "execution_count": null,
   "metadata": {},
   "outputs": [],
   "source": []
  }
 ],
 "metadata": {
  "kernelspec": {
   "display_name": "Python 3",
   "language": "python",
   "name": "python3"
  },
  "language_info": {
   "codemirror_mode": {
    "name": "ipython",
    "version": 3
   },
   "file_extension": ".py",
   "mimetype": "text/x-python",
   "name": "python",
   "nbconvert_exporter": "python",
   "pygments_lexer": "ipython3",
   "version": "3.7.0"
  }
 },
 "nbformat": 4,
 "nbformat_minor": 2
}
