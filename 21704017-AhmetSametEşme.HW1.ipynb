{
 "cells": [
  {
   "cell_type": "code",
   "execution_count": 10,
   "metadata": {},
   "outputs": [
    {
     "name": "stdout",
     "output_type": "stream",
     "text": [
      "Enter a: 1\n",
      "Enter b: 2\n",
      "Enter c: 3\n",
      "Diskriminant:  -8\n",
      "Your result of x1 is :  (-1-1.4142135623730951j)\n",
      "Your result of x2 is :  (-0.9999999999999999+1.4142135623730951j)\n"
     ]
    }
   ],
   "source": [
    "#D=(b**2)-4*a*c \n",
    "a = int(input ('Enter a: '))\n",
    "b = int(input ('Enter b: '))\n",
    "c = int(input ('Enter c: '))\n",
    "\n",
    "D =(b**2)-4*a*c\n",
    "print('Diskriminant: ' , D )\n",
    "\n",
    "result_of_x1 = (-b - D**0.5)/(2*a)\n",
    "print('Your result of x1 is : ' , result_of_x1)\n",
    "\n",
    "result_of_x2 = (-b + D**0.5)/(2*a)\n",
    "print('Your result of x2 is : ' , result_of_x2)\n",
    "\n"
   ]
  },
  {
   "cell_type": "code",
   "execution_count": null,
   "metadata": {},
   "outputs": [],
   "source": []
  }
 ],
 "metadata": {
  "kernelspec": {
   "display_name": "Python 3",
   "language": "python",
   "name": "python3"
  },
  "language_info": {
   "codemirror_mode": {
    "name": "ipython",
    "version": 3
   },
   "file_extension": ".py",
   "mimetype": "text/x-python",
   "name": "python",
   "nbconvert_exporter": "python",
   "pygments_lexer": "ipython3",
   "version": "3.7.0"
  }
 },
 "nbformat": 4,
 "nbformat_minor": 2
}
